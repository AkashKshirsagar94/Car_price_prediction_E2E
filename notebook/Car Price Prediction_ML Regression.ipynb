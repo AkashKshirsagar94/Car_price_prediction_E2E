{
 "cells": [
  {
   "cell_type": "markdown",
   "id": "36a25b33",
   "metadata": {},
   "source": [
    "### 1. Import & Clean the data"
   ]
  },
  {
   "cell_type": "code",
   "execution_count": 1,
   "id": "eb732001",
   "metadata": {},
   "outputs": [],
   "source": [
    "import pandas as pd\n",
    "import numpy as np\n",
    "import seaborn as sns"
   ]
  },
  {
   "cell_type": "code",
   "execution_count": 2,
   "id": "efe73826",
   "metadata": {},
   "outputs": [],
   "source": [
    "path = \"/home/akash/Akash/Data Science/3. IBM Data Science Professional Certificate/Assignment Jupyter notebook/Car Price Prediction/car.csv\"\n",
    "car_data = pd.read_csv(path)\n",
    "car_data.replace('?', np.NaN, inplace=True)\n",
    "car_data = car_data.dropna(subset=['price'], axis=0).reset_index(drop=True)\n",
    "car_data['symboling'] = car_data['symboling'].astype('object')"
   ]
  },
  {
   "cell_type": "code",
   "execution_count": 3,
   "id": "e5df7acb",
   "metadata": {},
   "outputs": [],
   "source": [
    "features = ['symboling', 'normalized-losses', 'make', 'fuel-type', 'aspiration',\n",
    "       'num-of-doors', 'body-style', 'drive-wheels', 'engine-location',\n",
    "       'wheel-base', 'length', 'width', 'height', 'curb-weight', 'engine-type',\n",
    "       'num-of-cylinders', 'engine-size', 'fuel-system', 'bore', 'stroke',\n",
    "       'compression-ratio', 'horsepower', 'peak-rpm', 'city-mpg',\n",
    "       'highway-mpg']\n",
    "#Create a list of numerical feature & categorical features\n",
    "num_features = [feature for feature in features if car_data[feature].dtype != 'O']\n",
    "cat_features = [feature for feature in features if car_data[feature].dtype == 'O']"
   ]
  },
  {
   "cell_type": "code",
   "execution_count": 4,
   "id": "9e94333b",
   "metadata": {},
   "outputs": [],
   "source": [
    "from sklearn.impute import SimpleImputer\n",
    "class Clean_data:\n",
    "    def __init__(self, num_features, cat_features, data):\n",
    "        self.num_features = num_features\n",
    "        self.cat_features = cat_features\n",
    "        self.data = data\n",
    "\n",
    "#Create a function that will work on the missing data & use relevant strategy to replace null values\n",
    "    def clean_data(self):\n",
    "        #Strategy for numerical features\n",
    "        num_data = self.data[self.num_features]\n",
    "        num_imputer = SimpleImputer(missing_values = np.NaN, strategy ='mean')\n",
    "        num_imputer = num_imputer.fit(num_data)\n",
    "        # As the tranform keyword create a data in array w/o columns, changing it to dataframe & adding columns\n",
    "        num_data = pd.DataFrame(num_imputer.transform(num_data))\n",
    "        num_data.columns = self.num_features\n",
    "\n",
    "        #Strategy for cat features\n",
    "        cat_data = self.data[self.cat_features]\n",
    "        cat_imputer = SimpleImputer(missing_values = np.NaN, strategy ='most_frequent')\n",
    "        cat_imputer = cat_imputer.fit(cat_data)\n",
    "        # As the tranform keyword create a data in array w/o columns, changing it to dataframe & adding columns\n",
    "        cat_data = pd.DataFrame(cat_imputer.transform(cat_data))\n",
    "        cat_data.columns = self.cat_features\n",
    "\n",
    "        #Concatenation\n",
    "        cleaned_data = pd.concat([num_data, cat_data], axis=1)\n",
    "\n",
    "        return cleaned_data"
   ]
  },
  {
   "cell_type": "code",
   "execution_count": 5,
   "id": "0c02fc90",
   "metadata": {},
   "outputs": [],
   "source": [
    "# A dataframe without any missing values is created\n",
    "cln_data = Clean_data(num_features, cat_features, car_data)\n",
    "features_df = cln_data.clean_data()\n",
    "df = pd.concat([features_df, car_data[['price']]], axis=1)"
   ]
  },
  {
   "cell_type": "markdown",
   "id": "d160b583",
   "metadata": {},
   "source": [
    "### 2. EDA with Visualization"
   ]
  },
  {
   "cell_type": "code",
   "execution_count": 6,
   "id": "23caf121",
   "metadata": {},
   "outputs": [],
   "source": [
    "class EDA_Visualization:\n",
    "    def __init__(self, feature, target, data):\n",
    "        self.feature = feature\n",
    "        self.target = target\n",
    "        self.data = data\n",
    "#Create a function that will display the relationship through suitable visual chart\n",
    "    def create_chart(self):\n",
    "        if self.data[self.feature].dtype == 'O':\n",
    "            return sns.boxplot(x=self.feature, y=self.target, data=self.data)\n",
    "        else:\n",
    "            return sns.scatterplot(x=self.feature, y=self.target, data=self.data)"
   ]
  },
  {
   "cell_type": "code",
   "execution_count": 7,
   "id": "03ab092c",
   "metadata": {},
   "outputs": [
    {
     "data": {
      "text/plain": [
       "<Axes: xlabel='engine-type', ylabel='price'>"
      ]
     },
     "execution_count": 7,
     "metadata": {},
     "output_type": "execute_result"
    },
    {
     "data": {
      "image/png": "[encoded data removed]",
      "text/plain": [
       "<Figure size 640x480 with 1 Axes>"
      ]
     },
     "metadata": {},
     "output_type": "display_data"
    }
   ],
   "source": [
    "# Relationship between price & features can be visualized with this class\n",
    "chart = EDA_Visualization('engine-type', 'price', df)\n",
    "chart.create_chart()"
   ]
  },
  {
   "cell_type": "markdown",
   "id": "09efc94f",
   "metadata": {},
   "source": [
    "### 3. Feature Selection"
   ]
  },
  {
   "cell_type": "code",
   "execution_count": 8,
   "id": "f26cb06f",
   "metadata": {},
   "outputs": [],
   "source": [
    "import scipy.stats\n",
    "class Feature_selection:\n",
    "    def __init__(self, features, target, data):\n",
    "        self.features = features\n",
    "        self.target = target\n",
    "        self.data = data\n",
    "\n",
    "#Create a function that will run a suitable statistical test to check the significance\n",
    "    def feature_selection(self):\n",
    "        significant_features = []\n",
    "        insignificant_features =[]\n",
    "        for feature in self.features:\n",
    "            if self.data[feature].dtype == 'O':\n",
    "                new_data = self.data[[self.target,feature]]\n",
    "                grouped_data = new_data.groupby(feature)\n",
    "                grp_array = [group[self.target].values for name, group in grouped_data]\n",
    "                f_stat, p_val = scipy.stats.f_oneway(*grp_array)\n",
    "                if p_val<0.05:\n",
    "                    significant_features.append(feature)\n",
    "                else:\n",
    "                    insignificant_features.append(feature)\n",
    "            else:\n",
    "                new_data = self.data[[self.target,feature]]\n",
    "                corr, p_val = scipy.stats.pearsonr(new_data[self.target],new_data[feature])\n",
    "                if p_val<0.05:\n",
    "                    significant_features.append(feature)\n",
    "                else:\n",
    "                    insignificant_features.append(feature)\n",
    "        return significant_features, insignificant_features"
   ]
  },
  {
   "cell_type": "code",
   "execution_count": 9,
   "id": "52f481b5",
   "metadata": {},
   "outputs": [
    {
     "name": "stdout",
     "output_type": "stream",
     "text": [
      "Significant Features are:  ['symboling', 'make', 'aspiration', 'body-style', 'drive-wheels', 'engine-location', 'wheel-base', 'length', 'width', 'curb-weight', 'engine-type', 'num-of-cylinders', 'engine-size', 'fuel-system', 'bore', 'horsepower', 'city-mpg', 'highway-mpg'] \n",
      " Insignificant Features are:  ['normalized-losses', 'fuel-type', 'num-of-doors', 'height', 'stroke', 'compression-ratio', 'peak-rpm']\n"
     ]
    }
   ],
   "source": [
    "#The class will give list of significant & insignificant features impacting price\n",
    "select_features = Feature_selection(features, 'price', df)\n",
    "significant_features, insignificant_features = select_features.feature_selection()\n",
    "print('Significant Features are: ',significant_features, '\\n', \n",
    "      'Insignificant Features are: ',insignificant_features)"
   ]
  },
  {
   "cell_type": "code",
   "execution_count": 10,
   "id": "977479ff",
   "metadata": {},
   "outputs": [
    {
     "data": {
      "text/html": [
       "<div>\n",
       "<style scoped>\n",
       "    .dataframe tbody tr th:only-of-type {\n",
       "        vertical-align: middle;\n",
       "    }\n",
       "\n",
       "    .dataframe tbody tr th {\n",
       "        vertical-align: top;\n",
       "    }\n",
       "\n",
       "    .dataframe thead th {\n",
       "        text-align: right;\n",
       "    }\n",
       "</style>\n",
       "<table border=\"1\" class=\"dataframe\">\n",
       "  <thead>\n",
       "    <tr style=\"text-align: right;\">\n",
       "      <th></th>\n",
       "      <th>wheel-base</th>\n",
       "      <th>length</th>\n",
       "      <th>width</th>\n",
       "      <th>curb-weight</th>\n",
       "      <th>engine-size</th>\n",
       "      <th>bore</th>\n",
       "      <th>horsepower</th>\n",
       "      <th>city-mpg</th>\n",
       "      <th>highway-mpg</th>\n",
       "      <th>symboling</th>\n",
       "      <th>make</th>\n",
       "      <th>aspiration</th>\n",
       "      <th>body-style</th>\n",
       "      <th>drive-wheels</th>\n",
       "      <th>engine-location</th>\n",
       "      <th>engine-type</th>\n",
       "      <th>num-of-cylinders</th>\n",
       "      <th>fuel-system</th>\n",
       "      <th>price</th>\n",
       "    </tr>\n",
       "  </thead>\n",
       "  <tbody>\n",
       "    <tr>\n",
       "      <th>0</th>\n",
       "      <td>88.6</td>\n",
       "      <td>168.8</td>\n",
       "      <td>64.1</td>\n",
       "      <td>2548.0</td>\n",
       "      <td>130.0</td>\n",
       "      <td>3.47</td>\n",
       "      <td>111.0</td>\n",
       "      <td>21.0</td>\n",
       "      <td>27.0</td>\n",
       "      <td>3</td>\n",
       "      <td>alfa-romero</td>\n",
       "      <td>std</td>\n",
       "      <td>convertible</td>\n",
       "      <td>rwd</td>\n",
       "      <td>front</td>\n",
       "      <td>dohc</td>\n",
       "      <td>four</td>\n",
       "      <td>mpfi</td>\n",
       "      <td>13495.0</td>\n",
       "    </tr>\n",
       "    <tr>\n",
       "      <th>1</th>\n",
       "      <td>88.6</td>\n",
       "      <td>168.8</td>\n",
       "      <td>64.1</td>\n",
       "      <td>2548.0</td>\n",
       "      <td>130.0</td>\n",
       "      <td>3.47</td>\n",
       "      <td>111.0</td>\n",
       "      <td>21.0</td>\n",
       "      <td>27.0</td>\n",
       "      <td>3</td>\n",
       "      <td>alfa-romero</td>\n",
       "      <td>std</td>\n",
       "      <td>convertible</td>\n",
       "      <td>rwd</td>\n",
       "      <td>front</td>\n",
       "      <td>dohc</td>\n",
       "      <td>four</td>\n",
       "      <td>mpfi</td>\n",
       "      <td>16500.0</td>\n",
       "    </tr>\n",
       "    <tr>\n",
       "      <th>2</th>\n",
       "      <td>94.5</td>\n",
       "      <td>171.2</td>\n",
       "      <td>65.5</td>\n",
       "      <td>2823.0</td>\n",
       "      <td>152.0</td>\n",
       "      <td>2.68</td>\n",
       "      <td>154.0</td>\n",
       "      <td>19.0</td>\n",
       "      <td>26.0</td>\n",
       "      <td>1</td>\n",
       "      <td>alfa-romero</td>\n",
       "      <td>std</td>\n",
       "      <td>hatchback</td>\n",
       "      <td>rwd</td>\n",
       "      <td>front</td>\n",
       "      <td>ohcv</td>\n",
       "      <td>six</td>\n",
       "      <td>mpfi</td>\n",
       "      <td>16500.0</td>\n",
       "    </tr>\n",
       "    <tr>\n",
       "      <th>3</th>\n",
       "      <td>99.8</td>\n",
       "      <td>176.6</td>\n",
       "      <td>66.2</td>\n",
       "      <td>2337.0</td>\n",
       "      <td>109.0</td>\n",
       "      <td>3.19</td>\n",
       "      <td>102.0</td>\n",
       "      <td>24.0</td>\n",
       "      <td>30.0</td>\n",
       "      <td>2</td>\n",
       "      <td>audi</td>\n",
       "      <td>std</td>\n",
       "      <td>sedan</td>\n",
       "      <td>fwd</td>\n",
       "      <td>front</td>\n",
       "      <td>ohc</td>\n",
       "      <td>four</td>\n",
       "      <td>mpfi</td>\n",
       "      <td>13950.0</td>\n",
       "    </tr>\n",
       "    <tr>\n",
       "      <th>4</th>\n",
       "      <td>99.4</td>\n",
       "      <td>176.6</td>\n",
       "      <td>66.4</td>\n",
       "      <td>2824.0</td>\n",
       "      <td>136.0</td>\n",
       "      <td>3.19</td>\n",
       "      <td>115.0</td>\n",
       "      <td>18.0</td>\n",
       "      <td>22.0</td>\n",
       "      <td>2</td>\n",
       "      <td>audi</td>\n",
       "      <td>std</td>\n",
       "      <td>sedan</td>\n",
       "      <td>4wd</td>\n",
       "      <td>front</td>\n",
       "      <td>ohc</td>\n",
       "      <td>five</td>\n",
       "      <td>mpfi</td>\n",
       "      <td>17450.0</td>\n",
       "    </tr>\n",
       "  </tbody>\n",
       "</table>\n",
       "</div>"
      ],
      "text/plain": [
       "   wheel-base  length  width  curb-weight  engine-size  bore  horsepower  \\\n",
       "0        88.6   168.8   64.1       2548.0        130.0  3.47       111.0   \n",
       "1        88.6   168.8   64.1       2548.0        130.0  3.47       111.0   \n",
       "2        94.5   171.2   65.5       2823.0        152.0  2.68       154.0   \n",
       "3        99.8   176.6   66.2       2337.0        109.0  3.19       102.0   \n",
       "4        99.4   176.6   66.4       2824.0        136.0  3.19       115.0   \n",
       "\n",
       "   city-mpg  highway-mpg symboling         make aspiration   body-style  \\\n",
       "0      21.0         27.0         3  alfa-romero        std  convertible   \n",
       "1      21.0         27.0         3  alfa-romero        std  convertible   \n",
       "2      19.0         26.0         1  alfa-romero        std    hatchback   \n",
       "3      24.0         30.0         2         audi        std        sedan   \n",
       "4      18.0         22.0         2         audi        std        sedan   \n",
       "\n",
       "  drive-wheels engine-location engine-type num-of-cylinders fuel-system  \\\n",
       "0          rwd           front        dohc             four        mpfi   \n",
       "1          rwd           front        dohc             four        mpfi   \n",
       "2          rwd           front        ohcv              six        mpfi   \n",
       "3          fwd           front         ohc             four        mpfi   \n",
       "4          4wd           front         ohc             five        mpfi   \n",
       "\n",
       "     price  \n",
       "0  13495.0  \n",
       "1  16500.0  \n",
       "2  16500.0  \n",
       "3  13950.0  \n",
       "4  17450.0  "
      ]
     },
     "execution_count": 10,
     "metadata": {},
     "output_type": "execute_result"
    }
   ],
   "source": [
    "#Droping insignificant features\n",
    "df1 = df.drop(insignificant_features, axis=1)\n",
    "df1.head()"
   ]
  },
  {
   "cell_type": "markdown",
   "id": "50f340ad",
   "metadata": {},
   "source": [
    "### 4. Data Scaling / Normalization"
   ]
  },
  {
   "cell_type": "code",
   "execution_count": 11,
   "id": "b85c499c",
   "metadata": {},
   "outputs": [],
   "source": [
    "new_features = list(df1.columns)\n",
    "new_features.remove('price')\n",
    "new_num_features = [feature for feature in new_features if df1[feature].dtype != 'O']\n",
    "new_cat_features = [feature for feature in new_features if df1[feature].dtype == 'O']"
   ]
  },
  {
   "cell_type": "code",
   "execution_count": 12,
   "id": "fbed9b5c",
   "metadata": {},
   "outputs": [],
   "source": [
    "from sklearn.impute import SimpleImputer\n",
    "from sklearn.compose import ColumnTransformer\n",
    "from sklearn.impute import SimpleImputer\n",
    "from sklearn.pipeline import Pipeline\n",
    "from sklearn.preprocessing import OneHotEncoder, StandardScaler\n",
    "import scipy\n",
    "class DataTransformation:\n",
    "    def __init__(self, num_features, cat_features):\n",
    "        self.num_features = num_features\n",
    "        self.cat_features = cat_features\n",
    "#Data normalization & onehotencoding    \n",
    "    def data_transformation(self):\n",
    "        num_pipeline = Pipeline(steps = [\n",
    "                                    ('scaler', StandardScaler(with_mean=False))\n",
    "                                    ]\n",
    "                               )\n",
    "        cat_pipeline = Pipeline(steps = [\n",
    "                                    ('Onehotencoder', OneHotEncoder()),\n",
    "                                    ('scaler', StandardScaler(with_mean=False))\n",
    "                                    ]\n",
    "                               )\n",
    "        preprocessor = ColumnTransformer(\n",
    "                                    [('num_pipeline', num_pipeline, self.num_features),\n",
    "                                     ('cat_pipeline', cat_pipeline, self.cat_features)\n",
    "                                    ]\n",
    "                                        )\n",
    "        return preprocessor"
   ]
  },
  {
   "cell_type": "code",
   "execution_count": 13,
   "id": "4d2e23be",
   "metadata": {},
   "outputs": [
    {
     "data": {
      "text/plain": [
       "(201, 70)"
      ]
     },
     "execution_count": 13,
     "metadata": {},
     "output_type": "execute_result"
    }
   ],
   "source": [
    "# This performs data scaling & onhotencoding\n",
    "transformation = DataTransformation(new_num_features, new_cat_features)\n",
    "preprocessor = transformation.data_transformation()\n",
    "x = df1.drop(columns = ['price'], axis=1)\n",
    "input_features = preprocessor.fit_transform(x).toarray()\n",
    "input_features.shape"
   ]
  },
  {
   "cell_type": "code",
   "execution_count": 14,
   "id": "d7a0feaa",
   "metadata": {},
   "outputs": [],
   "source": [
    "from sklearn.model_selection import train_test_split\n",
    "from sklearn.linear_model import LinearRegression\n",
    "from sklearn.metrics import r2_score\n",
    "from sklearn.neighbors import KNeighborsRegressor\n",
    "from sklearn.tree import DecisionTreeRegressor\n",
    "from xgboost import XGBRegressor\n",
    "x_train, x_test, y_train, y_test = train_test_split(input_features, df1['price'], test_size=0.2, random_state=1)\n",
    "\n",
    "models = {  'Decision Tree': DecisionTreeRegressor(),\n",
    "            'Linear Regresssion': LinearRegression(),\n",
    "            'K-Neighbors Regressor': KNeighborsRegressor(),\n",
    "         }\n",
    "def evaluate_models(x_train, y_train, x_test, y_test, models):\n",
    "    report ={}\n",
    "\n",
    "    for i in range(len(list(models))):\n",
    "        model = list(models.values())[i]\n",
    "\n",
    "        model.fit(x_train, y_train)  #Train model\n",
    "        y_test_pred = model.predict(x_test)\n",
    "\n",
    "        test_model_score = r2_score(y_test, y_test_pred)\n",
    "\n",
    "        report[list(models.keys())[i]] = test_model_score\n",
    "\n",
    "    return report"
   ]
  },
  {
   "cell_type": "code",
   "execution_count": 15,
   "id": "e717dd81",
   "metadata": {},
   "outputs": [
    {
     "data": {
      "text/plain": [
       "{'Decision Tree': 0.9009398225111013,\n",
       " 'Linear Regresssion': -7.904040479434079e+23,\n",
       " 'K-Neighbors Regressor': 0.8162494771714892}"
      ]
     },
     "execution_count": 15,
     "metadata": {},
     "output_type": "execute_result"
    }
   ],
   "source": [
    "model_report = dict=evaluate_models(x_train, y_train, x_test, y_test, models)\n",
    "model_report"
   ]
  },
  {
   "cell_type": "code",
   "execution_count": 16,
   "id": "af7ddb92",
   "metadata": {},
   "outputs": [
    {
     "data": {
      "text/plain": [
       "0.9355541402719076"
      ]
     },
     "execution_count": 16,
     "metadata": {},
     "output_type": "execute_result"
    }
   ],
   "source": [
    "LR = LinearRegression()\n",
    "lr_model = LR.fit(x_train, y_train)\n",
    "y_pred = lr_model.predict(x_train)\n",
    "score = r2_score(y_train, y_pred)\n",
    "score"
   ]
  },
  {
   "cell_type": "code",
   "execution_count": 17,
   "id": "e0f647f6",
   "metadata": {},
   "outputs": [
    {
     "name": "stdout",
     "output_type": "stream",
     "text": [
      "[11072.  4928. 11104.  6624. 13664.]\n",
      "97      9549.0\n",
      "117     6229.0\n",
      "59     10245.0\n",
      "35      7295.0\n",
      "165     9989.0\n",
      "Name: price, dtype: float64\n"
     ]
    }
   ],
   "source": [
    "yhat = lr_model.predict(x_test)\n",
    "print(yhat[0:5])\n",
    "print(y_test[0:5])"
   ]
  },
  {
   "cell_type": "code",
   "execution_count": 18,
   "id": "7e887af7",
   "metadata": {},
   "outputs": [
    {
     "data": {
      "text/plain": [
       "array([2.72287225e-03, 1.28196661e-02, 7.53852055e-03, 2.24535384e-01,\n",
       "       6.72646745e-01, 5.17674275e-04, 3.39728922e-02, 1.12207349e-02,\n",
       "       1.21577875e-02, 0.00000000e+00, 0.00000000e+00, 1.10634092e-03,\n",
       "       2.14372713e-06, 1.02802162e-04, 4.91618872e-06, 1.61504481e-07,\n",
       "       1.76264250e-03, 1.09059630e-02, 0.00000000e+00, 7.68154487e-08,\n",
       "       0.00000000e+00, 2.59004554e-04, 0.00000000e+00, 0.00000000e+00,\n",
       "       0.00000000e+00, 3.33133718e-04, 4.44109317e-06, 0.00000000e+00,\n",
       "       5.33255345e-04, 3.71645957e-05, 4.05862361e-04, 0.00000000e+00,\n",
       "       0.00000000e+00, 0.00000000e+00, 0.00000000e+00, 0.00000000e+00,\n",
       "       0.00000000e+00, 2.37583365e-04, 1.15026912e-03, 1.49605896e-03,\n",
       "       0.00000000e+00, 2.59460181e-05, 8.16148603e-04, 1.28362251e-04,\n",
       "       0.00000000e+00, 0.00000000e+00, 1.24887160e-03, 0.00000000e+00,\n",
       "       0.00000000e+00, 0.00000000e+00, 0.00000000e+00, 1.36390150e-05,\n",
       "       1.49963040e-05, 9.72195522e-06, 0.00000000e+00, 0.00000000e+00,\n",
       "       7.49070649e-06, 1.86320672e-06, 0.00000000e+00, 0.00000000e+00,\n",
       "       0.00000000e+00, 0.00000000e+00, 0.00000000e+00, 1.02581531e-03,\n",
       "       2.07978227e-04, 2.46816678e-05, 0.00000000e+00, 0.00000000e+00,\n",
       "       3.88878209e-07, 0.00000000e+00])"
      ]
     },
     "execution_count": 18,
     "metadata": {},
     "output_type": "execute_result"
    }
   ],
   "source": [
    "#Feature importance plot - Plotting coefficients\n",
    "from sklearn.tree import DecisionTreeRegressor\n",
    "DT = DecisionTreeRegressor()\n",
    "DT = DT.fit(x_train, y_train)\n",
    "y_pred = DT.predict(x_test)\n",
    "score = r2_score(y_test, y_pred)\n",
    "feature_importance = DT.feature_importances_.astype(float)\n",
    "feature_importance"
   ]
  },
  {
   "cell_type": "code",
   "execution_count": 19,
   "id": "9b0eea4c",
   "metadata": {},
   "outputs": [
    {
     "data": {
      "text/plain": [
       "Index(['wheel-base', 'length', 'width', 'curb-weight', 'engine-size', 'bore',\n",
       "       'horsepower', 'city-mpg', 'highway-mpg', 'symboling_-2', 'symboling_-1',\n",
       "       'symboling_0', 'symboling_1', 'symboling_2', 'symboling_3',\n",
       "       'make_alfa-romero', 'make_audi', 'make_bmw', 'make_chevrolet',\n",
       "       'make_dodge', 'make_honda', 'make_isuzu', 'make_jaguar', 'make_mazda',\n",
       "       'make_mercedes-benz', 'make_mercury', 'make_mitsubishi', 'make_nissan',\n",
       "       'make_peugot', 'make_plymouth', 'make_porsche', 'make_renault',\n",
       "       'make_saab', 'make_subaru', 'make_toyota', 'make_volkswagen',\n",
       "       'make_volvo', 'aspiration_std', 'aspiration_turbo',\n",
       "       'body-style_convertible', 'body-style_hardtop', 'body-style_hatchback',\n",
       "       'body-style_sedan', 'body-style_wagon', 'drive-wheels_4wd',\n",
       "       'drive-wheels_fwd', 'drive-wheels_rwd', 'engine-location_front',\n",
       "       'engine-location_rear', 'engine-type_dohc', 'engine-type_l',\n",
       "       'engine-type_ohc', 'engine-type_ohcf', 'engine-type_ohcv',\n",
       "       'engine-type_rotor', 'num-of-cylinders_eight', 'num-of-cylinders_five',\n",
       "       'num-of-cylinders_four', 'num-of-cylinders_six',\n",
       "       'num-of-cylinders_three', 'num-of-cylinders_twelve',\n",
       "       'num-of-cylinders_two', 'fuel-system_1bbl', 'fuel-system_2bbl',\n",
       "       'fuel-system_4bbl', 'fuel-system_idi', 'fuel-system_mfi',\n",
       "       'fuel-system_mpfi', 'fuel-system_spdi', 'fuel-system_spfi'],\n",
       "      dtype='object')"
      ]
     },
     "execution_count": 19,
     "metadata": {},
     "output_type": "execute_result"
    }
   ],
   "source": [
    "df_pp = pd.get_dummies(x, columns=['symboling', 'make', 'aspiration', 'body-style', 'drive-wheels', 'engine-location', 'engine-type', 'num-of-cylinders', 'fuel-system'])\n",
    "lst = df_pp.columns\n",
    "lst"
   ]
  },
  {
   "cell_type": "code",
   "execution_count": 20,
   "id": "8e8f090e",
   "metadata": {},
   "outputs": [
    {
     "data": {
      "text/plain": [
       "<Axes: xlabel='Importance', ylabel='Feature'>"
      ]
     },
     "execution_count": 20,
     "metadata": {},
     "output_type": "execute_result"
    },
    {
     "data": {
      "image/png": "[encoded data removed]",
      "text/plain": [
       "<Figure size 1500x1000 with 1 Axes>"
      ]
     },
     "metadata": {},
     "output_type": "display_data"
    }
   ],
   "source": [
    "import matplotlib.pyplot as plt\n",
    "dt1 = pd.DataFrame({'Feature': lst, 'Importance': feature_importance})\n",
    "dt1 = dt1.sort_values(by='Importance', ascending=False)\n",
    "dt1.reset_index(drop=True, inplace=True)\n",
    "dt1 = dt1.drop(list(np.arange(10,61)))\n",
    "plt.figure(figsize=(15,10))\n",
    "sns.barplot(x='Importance', y='Feature', data=dt1)"
   ]
  },
  {
   "cell_type": "markdown",
   "id": "2c066117",
   "metadata": {},
   "source": [
    "#### Considering only 6 features & checking the r2_score\n",
    "imp_features = [make, engine size, curb weight, horse power, width, city-mpg]"
   ]
  },
  {
   "cell_type": "code",
   "execution_count": 21,
   "id": "7826b17e",
   "metadata": {},
   "outputs": [],
   "source": [
    "imp_features = ['make', 'length', 'curb-weight', 'engine-size', 'horsepower', 'city-mpg']\n",
    "#Create a list of numerical feature & categorical features\n",
    "num_imp_features = [feature for feature in imp_features if car_data[feature].dtype != 'O']\n",
    "cat_imp_features = [feature for feature in imp_features if car_data[feature].dtype == 'O']"
   ]
  },
  {
   "cell_type": "code",
   "execution_count": 22,
   "id": "0bbfe80c",
   "metadata": {},
   "outputs": [
    {
     "data": {
      "text/plain": [
       "(201, 27)"
      ]
     },
     "execution_count": 22,
     "metadata": {},
     "output_type": "execute_result"
    }
   ],
   "source": [
    "# This performs data scaling & onhotencoding\n",
    "transformation = DataTransformation(num_imp_features, cat_imp_features)\n",
    "preprocessor = transformation.data_transformation()\n",
    "x1 = df1.drop(columns = ['price'], axis=1)\n",
    "input_features = preprocessor.fit_transform(x1).toarray()\n",
    "input_features.shape"
   ]
  },
  {
   "cell_type": "code",
   "execution_count": 23,
   "id": "3462f2e8",
   "metadata": {},
   "outputs": [
    {
     "data": {
      "text/plain": [
       "{'Decision Tree': 0.8909054237209292,\n",
       " 'Linear Regresssion': 0.8994963703657896,\n",
       " 'K-Neighbors Regressor': 0.8328139164787478}"
      ]
     },
     "execution_count": 23,
     "metadata": {},
     "output_type": "execute_result"
    }
   ],
   "source": [
    "x_train, x_test, y_train, y_test = train_test_split(input_features, df1['price'], test_size=0.2, random_state=1)\n",
    "model_report = dict=evaluate_models(x_train, y_train, x_test, y_test, models)\n",
    "model_report"
   ]
  },
  {
   "cell_type": "markdown",
   "id": "744493c2",
   "metadata": {},
   "source": [
    "### This concludes even after using small number of features, we can achieve the same accuracy.\n",
    "Let us use only these 6 features to predict the price & deploy in Google Cloud"
   ]
  },
  {
   "cell_type": "code",
   "execution_count": null,
   "id": "11a57bbe",
   "metadata": {},
   "outputs": [],
   "source": []
  }
 ],
 "metadata": {
  "kernelspec": {
   "display_name": "Python 3 (ipykernel)",
   "language": "python",
   "name": "python3"
  },
  "language_info": {
   "codemirror_mode": {
    "name": "ipython",
    "version": 3
   },
   "file_extension": ".py",
   "mimetype": "text/x-python",
   "name": "python",
   "nbconvert_exporter": "python",
   "pygments_lexer": "ipython3",
   "version": "3.11.5"
  }
 },
 "nbformat": 4,
 "nbformat_minor": 5
}
